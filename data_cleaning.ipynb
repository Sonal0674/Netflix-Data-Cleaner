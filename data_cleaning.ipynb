{
 "cells": [
  {
   "cell_type": "code",
   "execution_count": 121,
   "id": "4057f791-e0ba-4718-90ed-961043409477",
   "metadata": {},
   "outputs": [],
   "source": [
    "import pandas as pd"
   ]
  },
  {
   "cell_type": "code",
   "execution_count": 122,
   "id": "cc886a77-a666-49fa-88d9-f56c3e9d1dbe",
   "metadata": {},
   "outputs": [],
   "source": [
    "import numpy as np "
   ]
  },
  {
   "cell_type": "code",
   "execution_count": 123,
   "id": "362150d3-c005-4111-bc0c-0f95d57f2fd5",
   "metadata": {},
   "outputs": [],
   "source": [
    "df= pd.read_csv(\"netflix_titles.csv\")"
   ]
  },
  {
   "cell_type": "code",
   "execution_count": 124,
   "id": "e622aac8-e11d-481d-bf09-03f0105aae57",
   "metadata": {},
   "outputs": [
    {
     "data": {
      "text/plain": [
       "(8807, 12)"
      ]
     },
     "execution_count": 124,
     "metadata": {},
     "output_type": "execute_result"
    }
   ],
   "source": [
    "df.shape"
   ]
  },
  {
   "cell_type": "code",
   "execution_count": 125,
   "id": "82a81e74-778d-4a14-82f6-c557234a4004",
   "metadata": {},
   "outputs": [
    {
     "data": {
      "text/plain": [
       "show_id            0\n",
       "type               0\n",
       "title              0\n",
       "director        2634\n",
       "cast             825\n",
       "country          831\n",
       "date_added        10\n",
       "release_year       0\n",
       "rating             4\n",
       "duration           3\n",
       "listed_in          0\n",
       "description        0\n",
       "dtype: int64"
      ]
     },
     "execution_count": 125,
     "metadata": {},
     "output_type": "execute_result"
    }
   ],
   "source": [
    "df.isnull().sum()"
   ]
  },
  {
   "cell_type": "code",
   "execution_count": 126,
   "id": "c0c9c886-e1d1-48e7-ac57-71e5780fceb3",
   "metadata": {},
   "outputs": [],
   "source": [
    "df['country']=df['country'].fillna(\"unknown\")"
   ]
  },
  {
   "cell_type": "code",
   "execution_count": 127,
   "id": "fe0089dc-8d9d-490b-a833-53c0902f179a",
   "metadata": {},
   "outputs": [
    {
     "data": {
      "text/plain": [
       "show_id            0\n",
       "type               0\n",
       "title              0\n",
       "director        2634\n",
       "cast             825\n",
       "country            0\n",
       "date_added        10\n",
       "release_year       0\n",
       "rating             4\n",
       "duration           3\n",
       "listed_in          0\n",
       "description        0\n",
       "dtype: int64"
      ]
     },
     "execution_count": 127,
     "metadata": {},
     "output_type": "execute_result"
    }
   ],
   "source": [
    "df.isnull().sum()"
   ]
  },
  {
   "cell_type": "code",
   "execution_count": 128,
   "id": "d7c42cab-2379-482a-a4d2-f6790e15ecfc",
   "metadata": {},
   "outputs": [],
   "source": [
    "df.dropna(subset=[\"date_added\"],inplace=True)"
   ]
  },
  {
   "cell_type": "code",
   "execution_count": 129,
   "id": "cb321eeb-db0c-427f-84ab-ce518f6b4495",
   "metadata": {},
   "outputs": [],
   "source": [
    "df.dropna(subset=['director'],inplace=True)"
   ]
  },
  {
   "cell_type": "code",
   "execution_count": 130,
   "id": "533f6a48-9556-48eb-9c1d-8e83f6b00093",
   "metadata": {},
   "outputs": [
    {
     "data": {
      "text/plain": [
       "(6173, 12)"
      ]
     },
     "execution_count": 130,
     "metadata": {},
     "output_type": "execute_result"
    }
   ],
   "source": [
    "df.shape"
   ]
  },
  {
   "cell_type": "code",
   "execution_count": 131,
   "id": "6e416f3e-a857-42be-b4b8-2d461a353e38",
   "metadata": {},
   "outputs": [
    {
     "data": {
      "text/plain": [
       "show_id           0\n",
       "type              0\n",
       "title             0\n",
       "director          0\n",
       "cast            473\n",
       "country           0\n",
       "date_added        0\n",
       "release_year      0\n",
       "rating            1\n",
       "duration          3\n",
       "listed_in         0\n",
       "description       0\n",
       "dtype: int64"
      ]
     },
     "execution_count": 131,
     "metadata": {},
     "output_type": "execute_result"
    }
   ],
   "source": [
    "df.isnull().sum()"
   ]
  },
  {
   "cell_type": "code",
   "execution_count": 143,
   "id": "adc65d67-2d0b-4317-8fe6-480897fb5854",
   "metadata": {},
   "outputs": [],
   "source": [
    "df.dropna(subset=['cast','date_added','rating','duration',\"year_added\",\"month_added\"],inplace=True)\n"
   ]
  },
  {
   "cell_type": "code",
   "execution_count": 144,
   "id": "c8152fc5-16bb-4cf2-a0e6-f99061d3399d",
   "metadata": {},
   "outputs": [
    {
     "data": {
      "text/plain": [
       "show_id         0\n",
       "type            0\n",
       "title           0\n",
       "director        0\n",
       "cast            0\n",
       "country         0\n",
       "date_added      0\n",
       "release_year    0\n",
       "rating          0\n",
       "duration        0\n",
       "listed_in       0\n",
       "description     0\n",
       "year_added      0\n",
       "month_added     0\n",
       "dtype: int64"
      ]
     },
     "execution_count": 144,
     "metadata": {},
     "output_type": "execute_result"
    }
   ],
   "source": [
    "df.isnull().sum()"
   ]
  },
  {
   "cell_type": "code",
   "execution_count": 145,
   "id": "1dd15cf8-7295-4f1a-9261-d32140704f04",
   "metadata": {},
   "outputs": [],
   "source": [
    "df.drop_duplicates(inplace=True)"
   ]
  },
  {
   "cell_type": "code",
   "execution_count": 146,
   "id": "009ac4c5-e8dd-4f44-9f4e-1add0e2d0c57",
   "metadata": {},
   "outputs": [
    {
     "data": {
      "text/plain": [
       "(5692, 14)"
      ]
     },
     "execution_count": 146,
     "metadata": {},
     "output_type": "execute_result"
    }
   ],
   "source": [
    "\n",
    "df.shape"
   ]
  },
  {
   "cell_type": "code",
   "execution_count": 147,
   "id": "723fa339-571d-4c9b-ac32-dd4ec95613f2",
   "metadata": {},
   "outputs": [],
   "source": [
    "df['date_added']=pd.to_datetime(df['date_added'],errors=\"coerce\")"
   ]
  },
  {
   "cell_type": "code",
   "execution_count": 148,
   "id": "e162507e-7dbe-40b7-97bf-e8f2cd59c1f6",
   "metadata": {},
   "outputs": [],
   "source": [
    "df['yead_added']=df['date_added'].dt.year"
   ]
  },
  {
   "cell_type": "code",
   "execution_count": 149,
   "id": "12706ce0-1188-4077-b805-db3b6bc5274f",
   "metadata": {},
   "outputs": [],
   "source": [
    "df['month_added']=df['date_added'].dt.month"
   ]
  },
  {
   "cell_type": "code",
   "execution_count": 150,
   "id": "261ba60a-8cc8-4c6c-979a-8b9009ddbc5e",
   "metadata": {},
   "outputs": [],
   "source": [
    "df.rename(columns={'yead_added':\"year_added\"},inplace=True)"
   ]
  },
  {
   "cell_type": "code",
   "execution_count": 151,
   "id": "3d514a62-2600-4f87-a0b0-44b030763271",
   "metadata": {},
   "outputs": [
    {
     "data": {
      "text/plain": [
       "(5692, 15)"
      ]
     },
     "execution_count": 151,
     "metadata": {},
     "output_type": "execute_result"
    }
   ],
   "source": [
    "df.shape"
   ]
  },
  {
   "cell_type": "code",
   "execution_count": 152,
   "id": "2c190e30-c333-4816-b66f-e7c3193a6c97",
   "metadata": {},
   "outputs": [
    {
     "name": "stdout",
     "output_type": "stream",
     "text": [
      "<class 'pandas.core.frame.DataFrame'>\n",
      "Index: 5692 entries, 2 to 8806\n",
      "Data columns (total 15 columns):\n",
      " #   Column        Non-Null Count  Dtype         \n",
      "---  ------        --------------  -----         \n",
      " 0   show_id       5692 non-null   object        \n",
      " 1   type          5692 non-null   object        \n",
      " 2   title         5692 non-null   object        \n",
      " 3   director      5692 non-null   object        \n",
      " 4   cast          5692 non-null   object        \n",
      " 5   country       5692 non-null   object        \n",
      " 6   date_added    5692 non-null   datetime64[ns]\n",
      " 7   release_year  5692 non-null   int64         \n",
      " 8   rating        5692 non-null   object        \n",
      " 9   duration      5692 non-null   object        \n",
      " 10  listed_in     5692 non-null   object        \n",
      " 11  description   5692 non-null   object        \n",
      " 12  year_added    5692 non-null   float64       \n",
      " 13  month_added   5692 non-null   int32         \n",
      " 14  year_added    5692 non-null   int32         \n",
      "dtypes: datetime64[ns](1), float64(1), int32(2), int64(1), object(10)\n",
      "memory usage: 667.0+ KB\n"
     ]
    }
   ],
   "source": [
    "df.info()"
   ]
  },
  {
   "cell_type": "code",
   "execution_count": 153,
   "id": "d1feab0d-9ff4-4bdf-98be-ac28659f1a3a",
   "metadata": {},
   "outputs": [],
   "source": [
    "df['is_movie']=df['type'].apply (lambda x: 1 if x==\"Movie\" else 0) "
   ]
  },
  {
   "cell_type": "code",
   "execution_count": 154,
   "id": "6fb5e2d8-d2c4-482d-9f39-93c59732a2e6",
   "metadata": {},
   "outputs": [],
   "source": [
    "df.to_csv(\"cleaned_netflix_data.csv\",index=False)"
   ]
  },
  {
   "cell_type": "code",
   "execution_count": null,
   "id": "e8c650c9-01c7-41a0-bee7-821f3763a37d",
   "metadata": {},
   "outputs": [],
   "source": []
  }
 ],
 "metadata": {
  "kernelspec": {
   "display_name": "Python 3 (ipykernel)",
   "language": "python",
   "name": "python3"
  },
  "language_info": {
   "codemirror_mode": {
    "name": "ipython",
    "version": 3
   },
   "file_extension": ".py",
   "mimetype": "text/x-python",
   "name": "python",
   "nbconvert_exporter": "python",
   "pygments_lexer": "ipython3",
   "version": "3.13.2"
  }
 },
 "nbformat": 4,
 "nbformat_minor": 5
}
